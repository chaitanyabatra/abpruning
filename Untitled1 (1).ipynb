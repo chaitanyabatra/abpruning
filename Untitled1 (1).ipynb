{
  "nbformat": 4,
  "nbformat_minor": 0,
  "metadata": {
    "colab": {
      "provenance": []
    },
    "kernelspec": {
      "name": "python3",
      "display_name": "Python 3"
    },
    "language_info": {
      "name": "python"
    }
  },
  "cells": [
    {
      "cell_type": "code",
      "execution_count": 1,
      "metadata": {
        "colab": {
          "base_uri": "https://localhost:8080/",
          "height": 0
        },
        "id": "TTlXDRuTVfah",
        "outputId": "55a98fb2-46ff-4c59-f31b-a4358ad8f6df"
      },
      "outputs": [
        {
          "output_type": "stream",
          "name": "stdout",
          "text": [
            "Requirement already satisfied: rich in /usr/local/lib/python3.10/dist-packages (13.7.1)\n",
            "Requirement already satisfied: markdown-it-py>=2.2.0 in /usr/local/lib/python3.10/dist-packages (from rich) (3.0.0)\n",
            "Requirement already satisfied: pygments<3.0.0,>=2.13.0 in /usr/local/lib/python3.10/dist-packages (from rich) (2.16.1)\n",
            "Requirement already satisfied: mdurl~=0.1 in /usr/local/lib/python3.10/dist-packages (from markdown-it-py>=2.2.0->rich) (0.1.2)\n"
          ]
        }
      ],
      "source": [
        "!pip install rich\n"
      ]
    },
    {
      "cell_type": "code",
      "source": [
        "import math\n",
        "from rich.console import Console\n",
        "from rich.table import Table\n",
        "from rich.prompt import Prompt\n",
        "\n",
        "console = Console()\n",
        "\n",
        "# Function to print the board using Rich\n",
        "def print_board(board):\n",
        "    table = Table(show_header=False, header_style=\"bold magenta\")\n",
        "    for _ in range(3):\n",
        "        table.add_column()\n",
        "    for row in board:\n",
        "        table.add_row(*row)\n",
        "    console.print(table)\n",
        "\n",
        "# Function to check for a win\n",
        "def check_win(board, player):\n",
        "    win_cond = [player, player, player]\n",
        "    # Check rows\n",
        "    for row in board:\n",
        "        if row == win_cond:\n",
        "            return True\n",
        "    # Check columns\n",
        "    for col in range(3):\n",
        "        if [board[row][col] for row in range(3)] == win_cond:\n",
        "            return True\n",
        "    # Check diagonals\n",
        "    if [board[i][i] for i in range(3)] == win_cond:\n",
        "        return True\n",
        "    if [board[i][2 - i] for i in range(3)] == win_cond:\n",
        "        return True\n",
        "    return False\n",
        "\n",
        "# Function to check for a draw\n",
        "def check_draw(board):\n",
        "    for row in board:\n",
        "        if \" \" in row:\n",
        "            return False\n",
        "    return True\n",
        "\n",
        "# Function to get the available moves\n",
        "def get_available_moves(board):\n",
        "    moves = []\n",
        "    for i in range(3):\n",
        "        for j in range(3):\n",
        "            if board[i][j] == \" \":\n",
        "                moves.append((i, j))\n",
        "    return moves\n",
        "\n",
        "# Minimax algorithm with Alpha-Beta Pruning\n",
        "def minimax(board, depth, is_maximizing, alpha, beta):\n",
        "    if check_win(board, \"O\"):\n",
        "        return 1\n",
        "    if check_win(board, \"X\"):\n",
        "        return -1\n",
        "    if check_draw(board):\n",
        "        return 0\n",
        "\n",
        "    if is_maximizing:\n",
        "        max_eval = -math.inf\n",
        "        for move in get_available_moves(board):\n",
        "            board[move[0]][move[1]] = \"O\"\n",
        "            eval = minimax(board, depth + 1, False, alpha, beta)\n",
        "            board[move[0]][move[1]] = \" \"\n",
        "            max_eval = max(max_eval, eval)\n",
        "            alpha = max(alpha, eval)\n",
        "            if beta <= alpha:\n",
        "                break\n",
        "        return max_eval\n",
        "    else:\n",
        "        min_eval = math.inf\n",
        "        for move in get_available_moves(board):\n",
        "            board[move[0]][move[1]] = \"X\"\n",
        "            eval = minimax(board, depth + 1, True, alpha, beta)\n",
        "            board[move[0]][move[1]] = \" \"\n",
        "            min_eval = min(min_eval, eval)\n",
        "            beta = min(beta, eval)\n",
        "            if beta <= alpha:\n",
        "                break\n",
        "        return min_eval\n",
        "\n",
        "# Function to find the best move for the AI\n",
        "def find_best_move(board):\n",
        "    best_move = None\n",
        "    best_value = -math.inf\n",
        "    for move in get_available_moves(board):\n",
        "        board[move[0]][move[1]] = \"O\"\n",
        "        move_value = minimax(board, 0, False, -math.inf, math.inf)\n",
        "        board[move[0]][move[1]] = \" \"\n",
        "        if move_value > best_value:\n",
        "            best_move = move\n",
        "            best_value = move_value\n",
        "    return best_move\n",
        "\n",
        "# Main game function\n",
        "def play_game():\n",
        "    board = [[\" \" for _ in range(3)] for _ in range(3)]\n",
        "    human_player = \"X\"\n",
        "    ai_player = \"O\"\n",
        "    current_player = human_player\n",
        "\n",
        "    while True:\n",
        "        print_board(board)\n",
        "        if current_player == human_player:\n",
        "            console.print(\"Your turn!\", style=\"bold blue\")\n",
        "            while True:\n",
        "                try:\n",
        "                    row = int(Prompt.ask(\"Enter row (0, 1, or 2)\"))\n",
        "                    col = int(Prompt.ask(\"Enter column (0, 1, or 2)\"))\n",
        "                    if board[row][col] == \" \":\n",
        "                        board[row][col] = human_player\n",
        "                        break\n",
        "                    else:\n",
        "                        console.print(\"Invalid move. Try again.\", style=\"bold red\")\n",
        "                except (ValueError, IndexError):\n",
        "                    console.print(\"Invalid input. Enter numbers between 0 and 2.\", style=\"bold red\")\n",
        "\n",
        "            if check_win(board, human_player):\n",
        "                print_board(board)\n",
        "                console.print(\"You win!\", style=\"bold green\")\n",
        "                break\n",
        "            current_player = ai_player\n",
        "        else:\n",
        "            console.print(\"AI's turn!\", style=\"bold magenta\")\n",
        "            move = find_best_move(board)\n",
        "            board[move[0]][move[1]] = ai_player\n",
        "            if check_win(board, ai_player):\n",
        "                print_board(board)\n",
        "                console.print(\"AI wins!\", style=\"bold red\")\n",
        "                break\n",
        "            current_player = human_player\n",
        "\n",
        "        if check_draw(board):\n",
        "            print_board(board)\n",
        "            console.print(\"It's a draw!\", style=\"bold yellow\")\n",
        "            break\n",
        "\n",
        "# Start the game\n",
        "if __name__ == \"__main__\":\n",
        "    play_game()\n"
      ],
      "metadata": {
        "colab": {
          "base_uri": "https://localhost:8080/",
          "height": 1351
        },
        "id": "2aDP-oUPVmZy",
        "outputId": "9c5ee6e1-0af2-4f96-a7e5-8957c8024c50"
      },
      "execution_count": 4,
      "outputs": [
        {
          "output_type": "display_data",
          "data": {
            "text/plain": [
              "┌───┬───┬───┐\n",
              "│   │   │   │\n",
              "│   │   │   │\n",
              "│   │   │   │\n",
              "└───┴───┴───┘\n"
            ],
            "text/html": [
              "<pre style=\"white-space:pre;overflow-x:auto;line-height:normal;font-family:Menlo,'DejaVu Sans Mono',consolas,'Courier New',monospace\">┌───┬───┬───┐\n",
              "│   │   │   │\n",
              "│   │   │   │\n",
              "│   │   │   │\n",
              "└───┴───┴───┘\n",
              "</pre>\n"
            ]
          },
          "metadata": {}
        },
        {
          "output_type": "display_data",
          "data": {
            "text/plain": [
              "\u001b[1;34mYour turn!\u001b[0m\n"
            ],
            "text/html": [
              "<pre style=\"white-space:pre;overflow-x:auto;line-height:normal;font-family:Menlo,'DejaVu Sans Mono',consolas,'Courier New',monospace\"><span style=\"color: #000080; text-decoration-color: #000080; font-weight: bold\">Your turn!</span>\n",
              "</pre>\n"
            ]
          },
          "metadata": {}
        },
        {
          "output_type": "display_data",
          "data": {
            "text/plain": [
              "Enter row (0, 1, or 2): "
            ],
            "text/html": [
              "<pre style=\"white-space:pre;overflow-x:auto;line-height:normal;font-family:Menlo,'DejaVu Sans Mono',consolas,'Courier New',monospace\">Enter row (0, 1, or 2): </pre>\n"
            ]
          },
          "metadata": {}
        },
        {
          "name": "stdout",
          "output_type": "stream",
          "text": [
            "0\n"
          ]
        },
        {
          "output_type": "display_data",
          "data": {
            "text/plain": [
              "Enter column (0, 1, or 2): "
            ],
            "text/html": [
              "<pre style=\"white-space:pre;overflow-x:auto;line-height:normal;font-family:Menlo,'DejaVu Sans Mono',consolas,'Courier New',monospace\">Enter column (0, 1, or 2): </pre>\n"
            ]
          },
          "metadata": {}
        },
        {
          "name": "stdout",
          "output_type": "stream",
          "text": [
            "1\n"
          ]
        },
        {
          "output_type": "display_data",
          "data": {
            "text/plain": [
              "┌───┬───┬───┐\n",
              "│   │ X │   │\n",
              "│   │   │   │\n",
              "│   │   │   │\n",
              "└───┴───┴───┘\n"
            ],
            "text/html": [
              "<pre style=\"white-space:pre;overflow-x:auto;line-height:normal;font-family:Menlo,'DejaVu Sans Mono',consolas,'Courier New',monospace\">┌───┬───┬───┐\n",
              "│   │ X │   │\n",
              "│   │   │   │\n",
              "│   │   │   │\n",
              "└───┴───┴───┘\n",
              "</pre>\n"
            ]
          },
          "metadata": {}
        },
        {
          "output_type": "display_data",
          "data": {
            "text/plain": [
              "\u001b[1;35mAI's turn!\u001b[0m\n"
            ],
            "text/html": [
              "<pre style=\"white-space:pre;overflow-x:auto;line-height:normal;font-family:Menlo,'DejaVu Sans Mono',consolas,'Courier New',monospace\"><span style=\"color: #800080; text-decoration-color: #800080; font-weight: bold\">AI's turn!</span>\n",
              "</pre>\n"
            ]
          },
          "metadata": {}
        },
        {
          "output_type": "display_data",
          "data": {
            "text/plain": [
              "┌───┬───┬───┐\n",
              "│ O │ X │   │\n",
              "│   │   │   │\n",
              "│   │   │   │\n",
              "└───┴───┴───┘\n"
            ],
            "text/html": [
              "<pre style=\"white-space:pre;overflow-x:auto;line-height:normal;font-family:Menlo,'DejaVu Sans Mono',consolas,'Courier New',monospace\">┌───┬───┬───┐\n",
              "│ O │ X │   │\n",
              "│   │   │   │\n",
              "│   │   │   │\n",
              "└───┴───┴───┘\n",
              "</pre>\n"
            ]
          },
          "metadata": {}
        },
        {
          "output_type": "display_data",
          "data": {
            "text/plain": [
              "\u001b[1;34mYour turn!\u001b[0m\n"
            ],
            "text/html": [
              "<pre style=\"white-space:pre;overflow-x:auto;line-height:normal;font-family:Menlo,'DejaVu Sans Mono',consolas,'Courier New',monospace\"><span style=\"color: #000080; text-decoration-color: #000080; font-weight: bold\">Your turn!</span>\n",
              "</pre>\n"
            ]
          },
          "metadata": {}
        },
        {
          "output_type": "display_data",
          "data": {
            "text/plain": [
              "Enter row (0, 1, or 2): "
            ],
            "text/html": [
              "<pre style=\"white-space:pre;overflow-x:auto;line-height:normal;font-family:Menlo,'DejaVu Sans Mono',consolas,'Courier New',monospace\">Enter row (0, 1, or 2): </pre>\n"
            ]
          },
          "metadata": {}
        },
        {
          "name": "stdout",
          "output_type": "stream",
          "text": [
            "1\n"
          ]
        },
        {
          "output_type": "display_data",
          "data": {
            "text/plain": [
              "Enter column (0, 1, or 2): "
            ],
            "text/html": [
              "<pre style=\"white-space:pre;overflow-x:auto;line-height:normal;font-family:Menlo,'DejaVu Sans Mono',consolas,'Courier New',monospace\">Enter column (0, 1, or 2): </pre>\n"
            ]
          },
          "metadata": {}
        },
        {
          "name": "stdout",
          "output_type": "stream",
          "text": [
            "1\n"
          ]
        },
        {
          "output_type": "display_data",
          "data": {
            "text/plain": [
              "┌───┬───┬───┐\n",
              "│ O │ X │   │\n",
              "│   │ X │   │\n",
              "│   │   │   │\n",
              "└───┴───┴───┘\n"
            ],
            "text/html": [
              "<pre style=\"white-space:pre;overflow-x:auto;line-height:normal;font-family:Menlo,'DejaVu Sans Mono',consolas,'Courier New',monospace\">┌───┬───┬───┐\n",
              "│ O │ X │   │\n",
              "│   │ X │   │\n",
              "│   │   │   │\n",
              "└───┴───┴───┘\n",
              "</pre>\n"
            ]
          },
          "metadata": {}
        },
        {
          "output_type": "display_data",
          "data": {
            "text/plain": [
              "\u001b[1;35mAI's turn!\u001b[0m\n"
            ],
            "text/html": [
              "<pre style=\"white-space:pre;overflow-x:auto;line-height:normal;font-family:Menlo,'DejaVu Sans Mono',consolas,'Courier New',monospace\"><span style=\"color: #800080; text-decoration-color: #800080; font-weight: bold\">AI's turn!</span>\n",
              "</pre>\n"
            ]
          },
          "metadata": {}
        },
        {
          "output_type": "display_data",
          "data": {
            "text/plain": [
              "┌───┬───┬───┐\n",
              "│ O │ X │   │\n",
              "│   │ X │   │\n",
              "│   │ O │   │\n",
              "└───┴───┴───┘\n"
            ],
            "text/html": [
              "<pre style=\"white-space:pre;overflow-x:auto;line-height:normal;font-family:Menlo,'DejaVu Sans Mono',consolas,'Courier New',monospace\">┌───┬───┬───┐\n",
              "│ O │ X │   │\n",
              "│   │ X │   │\n",
              "│   │ O │   │\n",
              "└───┴───┴───┘\n",
              "</pre>\n"
            ]
          },
          "metadata": {}
        },
        {
          "output_type": "display_data",
          "data": {
            "text/plain": [
              "\u001b[1;34mYour turn!\u001b[0m\n"
            ],
            "text/html": [
              "<pre style=\"white-space:pre;overflow-x:auto;line-height:normal;font-family:Menlo,'DejaVu Sans Mono',consolas,'Courier New',monospace\"><span style=\"color: #000080; text-decoration-color: #000080; font-weight: bold\">Your turn!</span>\n",
              "</pre>\n"
            ]
          },
          "metadata": {}
        },
        {
          "output_type": "display_data",
          "data": {
            "text/plain": [
              "Enter row (0, 1, or 2): "
            ],
            "text/html": [
              "<pre style=\"white-space:pre;overflow-x:auto;line-height:normal;font-family:Menlo,'DejaVu Sans Mono',consolas,'Courier New',monospace\">Enter row (0, 1, or 2): </pre>\n"
            ]
          },
          "metadata": {}
        },
        {
          "name": "stdout",
          "output_type": "stream",
          "text": [
            "2\n"
          ]
        },
        {
          "output_type": "display_data",
          "data": {
            "text/plain": [
              "Enter column (0, 1, or 2): "
            ],
            "text/html": [
              "<pre style=\"white-space:pre;overflow-x:auto;line-height:normal;font-family:Menlo,'DejaVu Sans Mono',consolas,'Courier New',monospace\">Enter column (0, 1, or 2): </pre>\n"
            ]
          },
          "metadata": {}
        },
        {
          "name": "stdout",
          "output_type": "stream",
          "text": [
            "2\n"
          ]
        },
        {
          "output_type": "display_data",
          "data": {
            "text/plain": [
              "┌───┬───┬───┐\n",
              "│ O │ X │   │\n",
              "│   │ X │   │\n",
              "│   │ O │ X │\n",
              "└───┴───┴───┘\n"
            ],
            "text/html": [
              "<pre style=\"white-space:pre;overflow-x:auto;line-height:normal;font-family:Menlo,'DejaVu Sans Mono',consolas,'Courier New',monospace\">┌───┬───┬───┐\n",
              "│ O │ X │   │\n",
              "│   │ X │   │\n",
              "│   │ O │ X │\n",
              "└───┴───┴───┘\n",
              "</pre>\n"
            ]
          },
          "metadata": {}
        },
        {
          "output_type": "display_data",
          "data": {
            "text/plain": [
              "\u001b[1;35mAI's turn!\u001b[0m\n"
            ],
            "text/html": [
              "<pre style=\"white-space:pre;overflow-x:auto;line-height:normal;font-family:Menlo,'DejaVu Sans Mono',consolas,'Courier New',monospace\"><span style=\"color: #800080; text-decoration-color: #800080; font-weight: bold\">AI's turn!</span>\n",
              "</pre>\n"
            ]
          },
          "metadata": {}
        },
        {
          "output_type": "display_data",
          "data": {
            "text/plain": [
              "┌───┬───┬───┐\n",
              "│ O │ X │ O │\n",
              "│   │ X │   │\n",
              "│   │ O │ X │\n",
              "└───┴───┴───┘\n"
            ],
            "text/html": [
              "<pre style=\"white-space:pre;overflow-x:auto;line-height:normal;font-family:Menlo,'DejaVu Sans Mono',consolas,'Courier New',monospace\">┌───┬───┬───┐\n",
              "│ O │ X │ O │\n",
              "│   │ X │   │\n",
              "│   │ O │ X │\n",
              "└───┴───┴───┘\n",
              "</pre>\n"
            ]
          },
          "metadata": {}
        },
        {
          "output_type": "display_data",
          "data": {
            "text/plain": [
              "\u001b[1;34mYour turn!\u001b[0m\n"
            ],
            "text/html": [
              "<pre style=\"white-space:pre;overflow-x:auto;line-height:normal;font-family:Menlo,'DejaVu Sans Mono',consolas,'Courier New',monospace\"><span style=\"color: #000080; text-decoration-color: #000080; font-weight: bold\">Your turn!</span>\n",
              "</pre>\n"
            ]
          },
          "metadata": {}
        },
        {
          "output_type": "display_data",
          "data": {
            "text/plain": [
              "Enter row (0, 1, or 2): "
            ],
            "text/html": [
              "<pre style=\"white-space:pre;overflow-x:auto;line-height:normal;font-family:Menlo,'DejaVu Sans Mono',consolas,'Courier New',monospace\">Enter row (0, 1, or 2): </pre>\n"
            ]
          },
          "metadata": {}
        },
        {
          "name": "stdout",
          "output_type": "stream",
          "text": [
            "2\n"
          ]
        },
        {
          "output_type": "display_data",
          "data": {
            "text/plain": [
              "Enter column (0, 1, or 2): "
            ],
            "text/html": [
              "<pre style=\"white-space:pre;overflow-x:auto;line-height:normal;font-family:Menlo,'DejaVu Sans Mono',consolas,'Courier New',monospace\">Enter column (0, 1, or 2): </pre>\n"
            ]
          },
          "metadata": {}
        },
        {
          "name": "stdout",
          "output_type": "stream",
          "text": [
            "0\n"
          ]
        },
        {
          "output_type": "display_data",
          "data": {
            "text/plain": [
              "┌───┬───┬───┐\n",
              "│ O │ X │ O │\n",
              "│   │ X │   │\n",
              "│ X │ O │ X │\n",
              "└───┴───┴───┘\n"
            ],
            "text/html": [
              "<pre style=\"white-space:pre;overflow-x:auto;line-height:normal;font-family:Menlo,'DejaVu Sans Mono',consolas,'Courier New',monospace\">┌───┬───┬───┐\n",
              "│ O │ X │ O │\n",
              "│   │ X │   │\n",
              "│ X │ O │ X │\n",
              "└───┴───┴───┘\n",
              "</pre>\n"
            ]
          },
          "metadata": {}
        },
        {
          "output_type": "display_data",
          "data": {
            "text/plain": [
              "\u001b[1;35mAI's turn!\u001b[0m\n"
            ],
            "text/html": [
              "<pre style=\"white-space:pre;overflow-x:auto;line-height:normal;font-family:Menlo,'DejaVu Sans Mono',consolas,'Courier New',monospace\"><span style=\"color: #800080; text-decoration-color: #800080; font-weight: bold\">AI's turn!</span>\n",
              "</pre>\n"
            ]
          },
          "metadata": {}
        },
        {
          "output_type": "display_data",
          "data": {
            "text/plain": [
              "┌───┬───┬───┐\n",
              "│ O │ X │ O │\n",
              "│ O │ X │   │\n",
              "│ X │ O │ X │\n",
              "└───┴───┴───┘\n"
            ],
            "text/html": [
              "<pre style=\"white-space:pre;overflow-x:auto;line-height:normal;font-family:Menlo,'DejaVu Sans Mono',consolas,'Courier New',monospace\">┌───┬───┬───┐\n",
              "│ O │ X │ O │\n",
              "│ O │ X │   │\n",
              "│ X │ O │ X │\n",
              "└───┴───┴───┘\n",
              "</pre>\n"
            ]
          },
          "metadata": {}
        },
        {
          "output_type": "display_data",
          "data": {
            "text/plain": [
              "\u001b[1;34mYour turn!\u001b[0m\n"
            ],
            "text/html": [
              "<pre style=\"white-space:pre;overflow-x:auto;line-height:normal;font-family:Menlo,'DejaVu Sans Mono',consolas,'Courier New',monospace\"><span style=\"color: #000080; text-decoration-color: #000080; font-weight: bold\">Your turn!</span>\n",
              "</pre>\n"
            ]
          },
          "metadata": {}
        },
        {
          "output_type": "display_data",
          "data": {
            "text/plain": [
              "Enter row (0, 1, or 2): "
            ],
            "text/html": [
              "<pre style=\"white-space:pre;overflow-x:auto;line-height:normal;font-family:Menlo,'DejaVu Sans Mono',consolas,'Courier New',monospace\">Enter row (0, 1, or 2): </pre>\n"
            ]
          },
          "metadata": {}
        },
        {
          "name": "stdout",
          "output_type": "stream",
          "text": [
            "1\n"
          ]
        },
        {
          "output_type": "display_data",
          "data": {
            "text/plain": [
              "Enter column (0, 1, or 2): "
            ],
            "text/html": [
              "<pre style=\"white-space:pre;overflow-x:auto;line-height:normal;font-family:Menlo,'DejaVu Sans Mono',consolas,'Courier New',monospace\">Enter column (0, 1, or 2): </pre>\n"
            ]
          },
          "metadata": {}
        },
        {
          "name": "stdout",
          "output_type": "stream",
          "text": [
            "2\n"
          ]
        },
        {
          "output_type": "display_data",
          "data": {
            "text/plain": [
              "┌───┬───┬───┐\n",
              "│ O │ X │ O │\n",
              "│ O │ X │ X │\n",
              "│ X │ O │ X │\n",
              "└───┴───┴───┘\n"
            ],
            "text/html": [
              "<pre style=\"white-space:pre;overflow-x:auto;line-height:normal;font-family:Menlo,'DejaVu Sans Mono',consolas,'Courier New',monospace\">┌───┬───┬───┐\n",
              "│ O │ X │ O │\n",
              "│ O │ X │ X │\n",
              "│ X │ O │ X │\n",
              "└───┴───┴───┘\n",
              "</pre>\n"
            ]
          },
          "metadata": {}
        },
        {
          "output_type": "display_data",
          "data": {
            "text/plain": [
              "\u001b[1;33mIt's a draw!\u001b[0m\n"
            ],
            "text/html": [
              "<pre style=\"white-space:pre;overflow-x:auto;line-height:normal;font-family:Menlo,'DejaVu Sans Mono',consolas,'Courier New',monospace\"><span style=\"color: #808000; text-decoration-color: #808000; font-weight: bold\">It's a draw!</span>\n",
              "</pre>\n"
            ]
          },
          "metadata": {}
        }
      ]
    }
  ]
}